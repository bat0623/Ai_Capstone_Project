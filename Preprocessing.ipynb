{
 "cells": [
  {
   "cell_type": "code",
   "execution_count": null,
   "metadata": {},
   "outputs": [
    {
     "ename": "SyntaxError",
     "evalue": "unmatched '}' (1865573127.py, line 36)",
     "output_type": "error",
     "traceback": [
      "\u001b[1;36m  Cell \u001b[1;32mIn[2], line 36\u001b[1;36m\u001b[0m\n\u001b[1;33m    }\u001b[0m\n\u001b[1;37m    ^\u001b[0m\n\u001b[1;31mSyntaxError\u001b[0m\u001b[1;31m:\u001b[0m unmatched '}'\n"
     ]
    }
   ],
   "source": [
    "import json\n",
    "import re\n",
    "import os\n",
    "\n",
    "# 폴더 경로 설정\n",
    "input_folder = 'orginal_data_set'\n",
    "output_folder = 'data_set'\n",
    "\n",
    "# 형태소 분석 결과를 토큰화하는 함수\n",
    "def morpheme_to_tokens(morpheme):\n",
    "    tokens = [re.sub('/.+', '', morph) for morph in morpheme.split('+')]\n",
    "    return tokens\n",
    "\n",
    "# 입력 폴더의 모든 JSON 파일 처리\n",
    "for filename in os.listdir(input_folder):\n",
    "    if filename.endswith('.json'):\n",
    "        input_path = os.path.join(input_folder, filename)\n",
    "        output_path = os.path.join(output_folder, filename)\n",
    "\n",
    "        # JSON 파일 로드\n",
    "        with open(input_path, 'r', encoding='utf-8') as file:\n",
    "            data = json.load(file)\n",
    "\n",
    "        processed_data = {\"dataset\": []}\n",
    "\n",
    "        lines = data['info'][0]['annotations']['lines']\n",
    "        for line in lines:\n",
    "            entry = {\n",
    "                \"id\": line['id'],\n",
    "                \"text\": line['norm_text'],\n",
    "                \"tokens\": morpheme_to_tokens(line['morpheme']),\n",
    "                \"metadata\": {\n",
    "                    \"speaker\": f\"화자_{line['speaker']['id'].replace('번', '')}\",\n",
    "                    \"source_file\": filename,\n",
    "                    \"category\": data['info'][0]['category']\n",
    "                }\n",
    "            }\n",
    "            processed_data[\"dataset\"].append(entry)\n",
    "\n",
    "        # 변환된 데이터를 새 JSON 파일로 저장\n",
    "        with open(output_path, 'w', encoding='utf-8') as file:\n",
    "            json.dump(processed_data, file, ensure_ascii=False, indent=2)\n",
    "\n",
    "print(f'모든 파일의 전처리가 완료되었으며, 결과는 \"{output_folder}\" 폴더에 저장되었습니다.')\n"
   ]
  }
 ],
 "metadata": {
  "kernelspec": {
   "display_name": ".venv",
   "language": "python",
   "name": "python3"
  },
  "language_info": {
   "codemirror_mode": {
    "name": "ipython",
    "version": 3
   },
   "file_extension": ".py",
   "mimetype": "text/x-python",
   "name": "python",
   "nbconvert_exporter": "python",
   "pygments_lexer": "ipython3",
   "version": "3.10.0"
  }
 },
 "nbformat": 4,
 "nbformat_minor": 2
}
