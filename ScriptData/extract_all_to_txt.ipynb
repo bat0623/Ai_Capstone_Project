{
 "cells": [
  {
   "cell_type": "markdown",
   "metadata": {},
   "source": [
    "git clone https://github.com/seannyD/VideoGameDialogueCorpusPublic.git"
   ]
  },
  {
   "cell_type": "code",
   "execution_count": 1,
   "metadata": {},
   "outputs": [
    {
     "name": "stdout",
     "output_type": "stream",
     "text": [
      "Collecting beautifulsoup4\n",
      "  Downloading beautifulsoup4-4.13.3-py3-none-any.whl.metadata (3.8 kB)\n",
      "Collecting html5lib\n",
      "  Downloading html5lib-1.1-py2.py3-none-any.whl.metadata (16 kB)\n",
      "Collecting cssutils\n",
      "  Downloading cssutils-2.11.1-py3-none-any.whl.metadata (8.7 kB)\n",
      "Collecting lxml\n",
      "  Using cached lxml-5.3.1-cp310-cp310-win_amd64.whl.metadata (3.8 kB)\n",
      "Requirement already satisfied: numpy in c:\\github\\ai_capstone_project\\.venv\\lib\\site-packages (1.24.4)\n",
      "Collecting xlrd==1.2.0\n",
      "  Downloading xlrd-1.2.0-py2.py3-none-any.whl.metadata (1.3 kB)\n",
      "Collecting hjson\n",
      "  Downloading hjson-3.1.0-py3-none-any.whl.metadata (2.6 kB)\n",
      "Collecting xlsxwriter\n",
      "  Downloading XlsxWriter-3.2.2-py3-none-any.whl.metadata (2.8 kB)\n",
      "Requirement already satisfied: pyyaml in c:\\github\\ai_capstone_project\\.venv\\lib\\site-packages (6.0.2)\n",
      "Collecting textatistic\n",
      "  Downloading textatistic-0.0.1.tar.gz (29 kB)\n",
      "  Installing build dependencies: started\n",
      "  Installing build dependencies: finished with status 'done'\n",
      "  Getting requirements to build wheel: started\n",
      "  Getting requirements to build wheel: finished with status 'done'\n",
      "  Preparing metadata (pyproject.toml): started\n",
      "  Preparing metadata (pyproject.toml): finished with status 'done'\n",
      "Collecting igraph\n",
      "  Downloading igraph-0.11.8-cp39-abi3-win_amd64.whl.metadata (3.9 kB)\n",
      "Collecting soupsieve>1.2 (from beautifulsoup4)\n",
      "  Using cached soupsieve-2.6-py3-none-any.whl.metadata (4.6 kB)\n",
      "Requirement already satisfied: typing-extensions>=4.0.0 in c:\\github\\ai_capstone_project\\.venv\\lib\\site-packages (from beautifulsoup4) (4.12.2)\n",
      "Requirement already satisfied: six>=1.9 in c:\\github\\ai_capstone_project\\.venv\\lib\\site-packages (from html5lib) (1.17.0)\n",
      "Collecting webencodings (from html5lib)\n",
      "  Using cached webencodings-0.5.1-py2.py3-none-any.whl.metadata (2.1 kB)\n",
      "Collecting more-itertools (from cssutils)\n",
      "  Downloading more_itertools-10.6.0-py3-none-any.whl.metadata (37 kB)\n",
      "Collecting pyhyphen>=2.0.5 (from textatistic)\n",
      "  Downloading PyHyphen-4.0.4-cp37-abi3-win_amd64.whl.metadata (8.9 kB)\n",
      "Collecting texttable>=1.6.2 (from igraph)\n",
      "  Downloading texttable-1.7.0-py2.py3-none-any.whl.metadata (9.8 kB)\n",
      "Collecting wheel>=0.40.0 (from pyhyphen>=2.0.5->textatistic)\n",
      "  Using cached wheel-0.45.1-py3-none-any.whl.metadata (2.3 kB)\n",
      "Collecting setuptools>=68.0 (from pyhyphen>=2.0.5->textatistic)\n",
      "  Using cached setuptools-77.0.3-py3-none-any.whl.metadata (6.6 kB)\n",
      "Collecting appdirs>=1.4.0 (from pyhyphen>=2.0.5->textatistic)\n",
      "  Downloading appdirs-1.4.4-py2.py3-none-any.whl.metadata (9.0 kB)\n",
      "Requirement already satisfied: requests>=2.25 in c:\\github\\ai_capstone_project\\.venv\\lib\\site-packages (from pyhyphen>=2.0.5->textatistic) (2.32.3)\n",
      "Requirement already satisfied: charset-normalizer<4,>=2 in c:\\github\\ai_capstone_project\\.venv\\lib\\site-packages (from requests>=2.25->pyhyphen>=2.0.5->textatistic) (3.4.1)\n",
      "Requirement already satisfied: idna<4,>=2.5 in c:\\github\\ai_capstone_project\\.venv\\lib\\site-packages (from requests>=2.25->pyhyphen>=2.0.5->textatistic) (3.10)\n",
      "Requirement already satisfied: urllib3<3,>=1.21.1 in c:\\github\\ai_capstone_project\\.venv\\lib\\site-packages (from requests>=2.25->pyhyphen>=2.0.5->textatistic) (2.3.0)\n",
      "Requirement already satisfied: certifi>=2017.4.17 in c:\\github\\ai_capstone_project\\.venv\\lib\\site-packages (from requests>=2.25->pyhyphen>=2.0.5->textatistic) (2025.1.31)\n",
      "Downloading xlrd-1.2.0-py2.py3-none-any.whl (103 kB)\n",
      "Downloading beautifulsoup4-4.13.3-py3-none-any.whl (186 kB)\n",
      "Downloading html5lib-1.1-py2.py3-none-any.whl (112 kB)\n",
      "Downloading cssutils-2.11.1-py3-none-any.whl (385 kB)\n",
      "Using cached lxml-5.3.1-cp310-cp310-win_amd64.whl (3.8 MB)\n",
      "Downloading hjson-3.1.0-py3-none-any.whl (54 kB)\n",
      "Downloading XlsxWriter-3.2.2-py3-none-any.whl (165 kB)\n",
      "Downloading igraph-0.11.8-cp39-abi3-win_amd64.whl (2.0 MB)\n",
      "   ---------------------------------------- 0.0/2.0 MB ? eta -:--:--\n",
      "   ---------------------------------------- 2.0/2.0 MB 21.7 MB/s eta 0:00:00\n",
      "Downloading PyHyphen-4.0.4-cp37-abi3-win_amd64.whl (38 kB)\n",
      "Using cached soupsieve-2.6-py3-none-any.whl (36 kB)\n",
      "Downloading texttable-1.7.0-py2.py3-none-any.whl (10 kB)\n",
      "Downloading more_itertools-10.6.0-py3-none-any.whl (63 kB)\n",
      "Using cached webencodings-0.5.1-py2.py3-none-any.whl (11 kB)\n",
      "Downloading appdirs-1.4.4-py2.py3-none-any.whl (9.6 kB)\n",
      "Using cached setuptools-77.0.3-py3-none-any.whl (1.3 MB)\n",
      "Using cached wheel-0.45.1-py3-none-any.whl (72 kB)\n",
      "Building wheels for collected packages: textatistic\n",
      "  Building wheel for textatistic (pyproject.toml): started\n",
      "  Building wheel for textatistic (pyproject.toml): finished with status 'done'\n",
      "  Created wheel for textatistic: filename=textatistic-0.0.1-py3-none-any.whl size=29121 sha256=3da6477fbf1a05cbe22f5cefa8eb961c27714c1b5a01dabf773b9bfae880d546\n",
      "  Stored in directory: c:\\users\\shado\\appdata\\local\\pip\\cache\\wheels\\6e\\31\\c3\\df8af4aa9ec3f671b0e8bc3bfa642c75918f2479ca4050f5f4\n",
      "Successfully built textatistic\n",
      "Installing collected packages: webencodings, texttable, hjson, appdirs, xlsxwriter, xlrd, wheel, soupsieve, setuptools, more-itertools, lxml, igraph, html5lib, pyhyphen, cssutils, beautifulsoup4, textatistic\n",
      "  Attempting uninstall: setuptools\n",
      "    Found existing installation: setuptools 57.4.0\n",
      "    Uninstalling setuptools-57.4.0:\n",
      "      Successfully uninstalled setuptools-57.4.0\n",
      "Successfully installed appdirs-1.4.4 beautifulsoup4-4.13.3 cssutils-2.11.1 hjson-3.1.0 html5lib-1.1 igraph-0.11.8 lxml-5.3.1 more-itertools-10.6.0 pyhyphen-4.0.4 setuptools-77.0.3 soupsieve-2.6 textatistic-0.0.1 texttable-1.7.0 webencodings-0.5.1 wheel-0.45.1 xlrd-1.2.0 xlsxwriter-3.2.2\n",
      "Note: you may need to restart the kernel to use updated packages.\n"
     ]
    }
   ],
   "source": [
    "pip install beautifulsoup4 html5lib cssutils lxml numpy xlrd==1.2.0 hjson xlsxwriter pyyaml textatistic igraph\n"
   ]
  },
  {
   "cell_type": "code",
   "execution_count": null,
   "metadata": {},
   "outputs": [
    {
     "name": "stdout",
     "output_type": "stream",
     "text": [
      "🔍 Parsing: C:/GitHub/Ai_Capstone_Project/ScriptData/VideoGameDialogueCorpusPublic/data\\DragonAge\\DragonAge2\n",
      "❌ Parser failed: C:/GitHub/Ai_Capstone_Project/ScriptData/VideoGameDialogueCorpusPublic/data\\DragonAge\\DragonAge2\n",
      "⚠️ No data.json in C:/GitHub/Ai_Capstone_Project/ScriptData/VideoGameDialogueCorpusPublic/data\\DragonAge\\DragonAge2\n",
      "🌐 Running scraper: C:/GitHub/Ai_Capstone_Project/ScriptData/VideoGameDialogueCorpusPublic/data\\DragonAge\\DragonAgeInquisition\\scraper.py\n",
      "❌ Scraper failed: C:/GitHub/Ai_Capstone_Project/ScriptData/VideoGameDialogueCorpusPublic/data\\DragonAge\\DragonAgeInquisition\\scraper.py\n",
      "🔍 Parsing: C:/GitHub/Ai_Capstone_Project/ScriptData/VideoGameDialogueCorpusPublic/data\\DragonAge\\DragonAgeInquisition\n",
      "❌ Parser failed: C:/GitHub/Ai_Capstone_Project/ScriptData/VideoGameDialogueCorpusPublic/data\\DragonAge\\DragonAgeInquisition\n",
      "⚠️ No data.json in C:/GitHub/Ai_Capstone_Project/ScriptData/VideoGameDialogueCorpusPublic/data\\DragonAge\\DragonAgeInquisition\n",
      "⚠️ No scraper.py for DragonAge_DragonAgeInquisition_B\n",
      "🔍 Parsing: C:/GitHub/Ai_Capstone_Project/ScriptData/VideoGameDialogueCorpusPublic/data\\DragonAge\\DragonAgeInquisition_B\n",
      "❌ Parser failed: C:/GitHub/Ai_Capstone_Project/ScriptData/VideoGameDialogueCorpusPublic/data\\DragonAge\\DragonAgeInquisition_B\n",
      "⚠️ No data.json in C:/GitHub/Ai_Capstone_Project/ScriptData/VideoGameDialogueCorpusPublic/data\\DragonAge\\DragonAgeInquisition_B\n",
      "🌐 Running scraper: C:/GitHub/Ai_Capstone_Project/ScriptData/VideoGameDialogueCorpusPublic/data\\DragonAge\\DragonAgeOrigins\\scraper.py\n",
      "❌ Scraper failed: C:/GitHub/Ai_Capstone_Project/ScriptData/VideoGameDialogueCorpusPublic/data\\DragonAge\\DragonAgeOrigins\\scraper.py\n",
      "🔍 Parsing: C:/GitHub/Ai_Capstone_Project/ScriptData/VideoGameDialogueCorpusPublic/data\\DragonAge\\DragonAgeOrigins\n",
      "❌ Parser failed: C:/GitHub/Ai_Capstone_Project/ScriptData/VideoGameDialogueCorpusPublic/data\\DragonAge\\DragonAgeOrigins\n",
      "⚠️ No data.json in C:/GitHub/Ai_Capstone_Project/ScriptData/VideoGameDialogueCorpusPublic/data\\DragonAge\\DragonAgeOrigins\n",
      "🌐 Running scraper: C:/GitHub/Ai_Capstone_Project/ScriptData/VideoGameDialogueCorpusPublic/data\\DragonAge\\DragonAgeOrigins_B\\scraper.py\n"
     ]
    }
   ],
   "source": []
  }
 ],
 "metadata": {
  "kernelspec": {
   "display_name": ".venv",
   "language": "python",
   "name": "python3"
  },
  "language_info": {
   "codemirror_mode": {
    "name": "ipython",
    "version": 3
   },
   "file_extension": ".py",
   "mimetype": "text/x-python",
   "name": "python",
   "nbconvert_exporter": "python",
   "pygments_lexer": "ipython3",
   "version": "3.10.0"
  }
 },
 "nbformat": 4,
 "nbformat_minor": 2
}
